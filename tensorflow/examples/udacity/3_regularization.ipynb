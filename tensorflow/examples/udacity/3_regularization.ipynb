{
 "cells": [
  {
   "cell_type": "markdown",
   "metadata": {
    "colab_type": "text",
    "id": "kR-4eNdK6lYS"
   },
   "source": [
    "Deep Learning\n",
    "=============\n",
    "\n",
    "Assignment 3\n",
    "------------\n",
    "\n",
    "Previously in `2_fullyconnected.ipynb`, you trained a logistic regression and a neural network model.\n",
    "\n",
    "The goal of this assignment is to explore regularization techniques."
   ]
  },
  {
   "cell_type": "code",
   "execution_count": 1,
   "metadata": {
    "cellView": "both",
    "colab": {
     "autoexec": {
      "startup": false,
      "wait_interval": 0
     }
    },
    "colab_type": "code",
    "collapsed": true,
    "id": "JLpLa8Jt7Vu4"
   },
   "outputs": [],
   "source": [
    "# These are all the modules we'll be using later. Make sure you can import them\n",
    "# before proceeding further.\n",
    "from __future__ import print_function\n",
    "import numpy as np\n",
    "import tensorflow as tf\n",
    "from six.moves import cPickle as pickle"
   ]
  },
  {
   "cell_type": "markdown",
   "metadata": {
    "colab_type": "text",
    "id": "1HrCK6e17WzV"
   },
   "source": [
    "First reload the data we generated in _notmist.ipynb_."
   ]
  },
  {
   "cell_type": "code",
   "execution_count": 2,
   "metadata": {
    "cellView": "both",
    "colab": {
     "autoexec": {
      "startup": false,
      "wait_interval": 0
     },
     "output_extras": [
      {
       "item_id": 1
      }
     ]
    },
    "colab_type": "code",
    "collapsed": false,
    "executionInfo": {
     "elapsed": 11777,
     "status": "ok",
     "timestamp": 1449849322348,
     "user": {
      "color": "",
      "displayName": "",
      "isAnonymous": false,
      "isMe": true,
      "permissionId": "",
      "photoUrl": "",
      "sessionId": "0",
      "userId": ""
     },
     "user_tz": 480
    },
    "id": "y3-cj1bpmuxc",
    "outputId": "e03576f1-ebbe-4838-c388-f1777bcc9873"
   },
   "outputs": [
    {
     "name": "stdout",
     "output_type": "stream",
     "text": [
      "Training set (200000, 28, 28) (200000,)\n",
      "Validation set (10000, 28, 28) (10000,)\n",
      "Test set (10000, 28, 28) (10000,)\n"
     ]
    }
   ],
   "source": [
    "pickle_file = 'notMNIST.pickle'\n",
    "\n",
    "with open(pickle_file, 'rb') as f:\n",
    "  save = pickle.load(f)\n",
    "  train_dataset = save['train_dataset']\n",
    "  train_labels = save['train_labels']\n",
    "  valid_dataset = save['valid_dataset']\n",
    "  valid_labels = save['valid_labels']\n",
    "  test_dataset = save['test_dataset']\n",
    "  test_labels = save['test_labels']\n",
    "  del save  # hint to help gc free up memory\n",
    "  print('Training set', train_dataset.shape, train_labels.shape)\n",
    "  print('Validation set', valid_dataset.shape, valid_labels.shape)\n",
    "  print('Test set', test_dataset.shape, test_labels.shape)"
   ]
  },
  {
   "cell_type": "markdown",
   "metadata": {
    "colab_type": "text",
    "id": "L7aHrm6nGDMB"
   },
   "source": [
    "Reformat into a shape that's more adapted to the models we're going to train:\n",
    "- data as a flat matrix,\n",
    "- labels as float 1-hot encodings."
   ]
  },
  {
   "cell_type": "code",
   "execution_count": 3,
   "metadata": {
    "cellView": "both",
    "colab": {
     "autoexec": {
      "startup": false,
      "wait_interval": 0
     },
     "output_extras": [
      {
       "item_id": 1
      }
     ]
    },
    "colab_type": "code",
    "collapsed": false,
    "executionInfo": {
     "elapsed": 11728,
     "status": "ok",
     "timestamp": 1449849322356,
     "user": {
      "color": "",
      "displayName": "",
      "isAnonymous": false,
      "isMe": true,
      "permissionId": "",
      "photoUrl": "",
      "sessionId": "0",
      "userId": ""
     },
     "user_tz": 480
    },
    "id": "IRSyYiIIGIzS",
    "outputId": "3f8996ee-3574-4f44-c953-5c8a04636582"
   },
   "outputs": [
    {
     "name": "stdout",
     "output_type": "stream",
     "text": [
      "Training set (200000, 784) (200000, 10)\n",
      "Validation set (10000, 784) (10000, 10)\n",
      "Test set (10000, 784) (10000, 10)\n"
     ]
    }
   ],
   "source": [
    "image_size = 28\n",
    "num_labels = 10\n",
    "\n",
    "def reformat(dataset, labels):\n",
    "  dataset = dataset.reshape((-1, image_size * image_size)).astype(np.float32)\n",
    "  # Map 2 to [0.0, 1.0, 0.0 ...], 3 to [0.0, 0.0, 1.0 ...]\n",
    "  labels = (np.arange(num_labels) == labels[:,None]).astype(np.float32)\n",
    "  return dataset, labels\n",
    "train_dataset, train_labels = reformat(train_dataset, train_labels)\n",
    "valid_dataset, valid_labels = reformat(valid_dataset, valid_labels)\n",
    "test_dataset, test_labels = reformat(test_dataset, test_labels)\n",
    "print('Training set', train_dataset.shape, train_labels.shape)\n",
    "print('Validation set', valid_dataset.shape, valid_labels.shape)\n",
    "print('Test set', test_dataset.shape, test_labels.shape)"
   ]
  },
  {
   "cell_type": "code",
   "execution_count": 4,
   "metadata": {
    "cellView": "both",
    "colab": {
     "autoexec": {
      "startup": false,
      "wait_interval": 0
     }
    },
    "colab_type": "code",
    "collapsed": true,
    "id": "RajPLaL_ZW6w"
   },
   "outputs": [],
   "source": [
    "def accuracy(predictions, labels):\n",
    "  return (100.0 * np.sum(np.argmax(predictions, 1) == np.argmax(labels, 1))\n",
    "          / predictions.shape[0])"
   ]
  },
  {
   "cell_type": "markdown",
   "metadata": {
    "colab_type": "text",
    "id": "sgLbUAQ1CW-1"
   },
   "source": [
    "---\n",
    "Problem 1\n",
    "---------\n",
    "\n",
    "Introduce and tune L2 regularization for both logistic and neural network models. Remember that L2 amounts to adding a penalty on the norm of the weights to the loss. In TensorFlow, you can compute the L2 loss for a tensor `t` using `nn.l2_loss(t)`. The right amount of regularization should improve your validation / test accuracy.\n",
    "\n",
    "---"
   ]
  },
  {
   "cell_type": "code",
   "execution_count": 11,
   "metadata": {
    "collapsed": false
   },
   "outputs": [],
   "source": [
    "train_subset = 1000\n",
    "beta = 0.01\n",
    "\n",
    "graph = tf.Graph()\n",
    "\n",
    "with graph.as_default():\n",
    "    \n",
    "    tf_train_dataset = tf.constant(\n",
    "        train_dataset[:train_subset, :]\n",
    "    )\n",
    "    tf_train_labels = tf.constant(\n",
    "        train_labels[:train_subset]\n",
    "    )\n",
    "    tf_valid_dataset = tf.constant(valid_dataset)\n",
    "    tf_test_datast = tf.constant(test_dataset)\n",
    "    \n",
    "    ''' variables '''\n",
    "    weights = tf.Variable(\n",
    "        tf.truncated_normal([\n",
    "            image_size * image_size,\n",
    "            num_labels\n",
    "        ])\n",
    "    )\n",
    "    biases = tf.Variable(tf.zeros([num_labels]))\n",
    "    \n",
    "    ''' training computation function '''\n",
    "    \n",
    "    logits = tf.matmul(tf_train_dataset, weights) + biases\n",
    "    \n",
    "    ''' loss function using L2 Regularization '''\n",
    "    loss = tf.reduce_mean(\n",
    "        tf.nn.softmax_cross_entropy_with_logits(logits, tf_train_labels)\n",
    "    )\n",
    "    loss_l2 = tf.reduce_mean(\n",
    "        loss + beta * tf.nn.l2_loss(weights)\n",
    "    )\n",
    "    \n",
    "    ''' optimize '''\n",
    "    optimizer = tf.train.GradientDescentOptimizer(0.5).minimize(loss_l2)\n",
    "    \n",
    "    ''' predictions '''\n",
    "    train_prediction = tf.nn.softmax(logits)\n",
    "    valid_prediction = tf.nn.softmax(\n",
    "        tf.matmul(tf_valid_dataset, weights) + biases\n",
    "    )\n",
    "    test_prediction = tf.nn.softmax(\n",
    "        tf.matmul(tf_test_datast, weights) + biases\n",
    "    )"
   ]
  },
  {
   "cell_type": "code",
   "execution_count": 18,
   "metadata": {
    "code_folding": [
     3,
     14
    ],
    "collapsed": false,
    "scrolled": false
   },
   "outputs": [
    {
     "name": "stdout",
     "output_type": "stream",
     "text": [
      "Initialized\n",
      "Loss at step 0: 18.298470\n",
      "Training accuracy: 9.4%\n",
      "Validation accuracy: 10.4%\n",
      "\n",
      "Loss at step 100: 0.866407\n",
      "Training accuracy: 82.2%\n",
      "Validation accuracy: 68.1%\n",
      "\n",
      "Loss at step 200: 0.414028\n",
      "Training accuracy: 91.5%\n",
      "Validation accuracy: 72.4%\n",
      "\n",
      "Loss at step 300: 0.310625\n",
      "Training accuracy: 94.7%\n",
      "Validation accuracy: 76.0%\n",
      "\n",
      "Loss at step 400: 0.286541\n",
      "Training accuracy: 95.2%\n",
      "Validation accuracy: 77.6%\n",
      "\n",
      "Loss at step 500: 0.280893\n",
      "Training accuracy: 95.4%\n",
      "Validation accuracy: 78.4%\n",
      "\n",
      "Loss at step 600: 0.279271\n",
      "Training accuracy: 95.5%\n",
      "Validation accuracy: 78.5%\n",
      "\n",
      "Loss at step 700: 0.278583\n",
      "Training accuracy: 95.3%\n",
      "Validation accuracy: 78.5%\n",
      "\n",
      "Loss at step 800: 0.278185\n",
      "Training accuracy: 95.4%\n",
      "Validation accuracy: 78.6%\n",
      "\n",
      "Loss at step 900: 0.277924\n",
      "Training accuracy: 95.4%\n",
      "Validation accuracy: 78.6%\n",
      "\n",
      "Loss at step 1000: 0.277746\n",
      "Training accuracy: 95.4%\n",
      "Validation accuracy: 78.6%\n",
      "\n",
      "Test accuracy: 86.0%\n"
     ]
    },
    {
     "data": {
      "image/png": "[encoded data removed]",
      "text/plain": [
       "<matplotlib.figure.Figure at 0x1126ed5c0>"
      ]
     },
     "metadata": {},
     "output_type": "display_data"
    }
   ],
   "source": [
    "%matplotlib inline\n",
    "import pandas as pd\n",
    "\n",
    "def getTFResults(graph, num_iterations):\n",
    "\n",
    "    def accuracy(predictions, labels):\n",
    "        return (\n",
    "            100.0 * np.sum(\n",
    "                np.argmax(predictions, 1) == np.argmax(labels, 1)\n",
    "            ) / predictions.shape[0]\n",
    "        )\n",
    "\n",
    "    df_accuracy = []\n",
    "\n",
    "    with tf.Session(graph=graph) as session:\n",
    "        tf.initialize_all_variables().run()\n",
    "\n",
    "        print('Initialized')\n",
    "\n",
    "        for step in range(num_iterations):\n",
    "            _, l, predictions = session.run([optimizer, loss, train_prediction])\n",
    "\n",
    "            if (step % 100 == 0):\n",
    "                print('Loss at step %d: %f' % (step, l))\n",
    "                print(\n",
    "                    'Training accuracy: %.1f%%' % accuracy(\n",
    "                        predictions,\n",
    "                        train_labels[:train_subset, :]\n",
    "                    )\n",
    "                )\n",
    "                print(\n",
    "                    'Validation accuracy: %.1f%%' % accuracy(\n",
    "                        valid_prediction.eval(),\n",
    "                        valid_labels\n",
    "                    )\n",
    "                )\n",
    "                print('')\n",
    "\n",
    "                df_accuracy.append({\n",
    "                    'step': step,\n",
    "                    'train': accuracy(\n",
    "                        predictions,\n",
    "                        train_labels[:train_subset, :]\n",
    "                    ),\n",
    "                    'test': accuracy(\n",
    "                        valid_prediction.eval(),\n",
    "                        valid_labels\n",
    "                    ),\n",
    "                    'final': accuracy(\n",
    "                        valid_prediction.eval(),\n",
    "                        valid_labels\n",
    "                    )\n",
    "                })\n",
    "        print(\n",
    "            'Test accuracy: %.1f%%' % accuracy(\n",
    "                test_prediction.eval(),\n",
    "                test_labels\n",
    "            )\n",
    "        )\n",
    "\n",
    "        df_accuracy.append({\n",
    "            'step': step,\n",
    "            'final': accuracy(\n",
    "                valid_prediction.eval(),\n",
    "                valid_labels\n",
    "            )\n",
    "        })\n",
    "    df_accuracy = pd.DataFrame(df_accuracy)\n",
    "\n",
    "    df_accuracy[['final', 'test', 'train']].plot()\n",
    "\n",
    "getTFResults(graph, 1001)"
   ]
  },
  {
   "cell_type": "markdown",
   "metadata": {
    "colab_type": "text",
    "id": "na8xX2yHZzNF"
   },
   "source": [
    "---\n",
    "Problem 2\n",
    "---------\n",
    "Let's demonstrate an extreme case of overfitting. Restrict your training data to just a few batches. What happens?\n",
    "\n",
    "---"
   ]
  },
  {
   "cell_type": "code",
   "execution_count": 21,
   "metadata": {
    "code_folding": [
     5
    ],
    "collapsed": false,
    "scrolled": false
   },
   "outputs": [
    {
     "name": "stdout",
     "output_type": "stream",
     "text": [
      "Initialized\n",
      "Loss at step 0: 19.320166\n",
      "Training accuracy: 0.0%\n",
      "Validation accuracy: 5.2%\n",
      "\n",
      "Loss at step 100: 0.035619\n",
      "Training accuracy: 100.0%\n",
      "Validation accuracy: 47.0%\n",
      "\n",
      "Loss at step 200: 0.035016\n",
      "Training accuracy: 100.0%\n",
      "Validation accuracy: 53.2%\n",
      "\n",
      "Loss at step 300: 0.038982\n",
      "Training accuracy: 100.0%\n",
      "Validation accuracy: 58.9%\n",
      "\n",
      "Loss at step 400: 0.041634\n",
      "Training accuracy: 100.0%\n",
      "Validation accuracy: 62.6%\n",
      "\n",
      "Loss at step 500: 0.042686\n",
      "Training accuracy: 100.0%\n",
      "Validation accuracy: 64.2%\n",
      "\n",
      "Loss at step 600: 0.042973\n",
      "Training accuracy: 100.0%\n",
      "Validation accuracy: 64.9%\n",
      "\n",
      "Loss at step 700: 0.043022\n",
      "Training accuracy: 100.0%\n",
      "Validation accuracy: 65.0%\n",
      "\n",
      "Loss at step 800: 0.043012\n",
      "Training accuracy: 100.0%\n",
      "Validation accuracy: 65.2%\n",
      "\n",
      "Loss at step 900: 0.042989\n",
      "Training accuracy: 100.0%\n",
      "Validation accuracy: 65.1%\n",
      "\n",
      "Loss at step 1000: 0.042965\n",
      "Training accuracy: 100.0%\n",
      "Validation accuracy: 65.1%\n",
      "\n",
      "Test accuracy: 71.6%\n"
     ]
    },
    {
     "data": {
      "image/png": "[encoded data removed]",
      "text/plain": [
       "<matplotlib.figure.Figure at 0x112bd4400>"
      ]
     },
     "metadata": {},
     "output_type": "display_data"
    }
   ],
   "source": [
    "train_subset = 100\n",
    "beta = 0.01\n",
    "\n",
    "graph = tf.Graph()\n",
    "\n",
    "with graph.as_default():\n",
    "    \n",
    "    tf_train_dataset = tf.constant(\n",
    "        train_dataset[:train_subset, :]\n",
    "    )\n",
    "    tf_train_labels = tf.constant(\n",
    "        train_labels[:train_subset]\n",
    "    )\n",
    "    tf_valid_dataset = tf.constant(valid_dataset)\n",
    "    tf_test_datast = tf.constant(test_dataset)\n",
    "    \n",
    "    ''' variables '''\n",
    "    weights = tf.Variable(\n",
    "        tf.truncated_normal([\n",
    "            image_size * image_size,\n",
    "            num_labels\n",
    "        ])\n",
    "    )\n",
    "    biases = tf.Variable(tf.zeros([num_labels]))\n",
    "    \n",
    "    ''' training computation function '''\n",
    "    \n",
    "    logits = tf.matmul(tf_train_dataset, weights) + biases\n",
    "    \n",
    "    ''' loss function using L2 Regularization '''\n",
    "    loss = tf.reduce_mean(\n",
    "        tf.nn.softmax_cross_entropy_with_logits(logits, tf_train_labels)\n",
    "    )\n",
    "    loss_l2 = tf.reduce_mean(\n",
    "        loss + beta * tf.nn.l2_loss(weights)\n",
    "    )\n",
    "    \n",
    "    ''' optimize '''\n",
    "    optimizer = tf.train.GradientDescentOptimizer(0.5).minimize(loss_l2)\n",
    "    \n",
    "    ''' predictions '''\n",
    "    train_prediction = tf.nn.softmax(logits)\n",
    "    valid_prediction = tf.nn.softmax(\n",
    "        tf.matmul(tf_valid_dataset, weights) + biases\n",
    "    )\n",
    "    test_prediction = tf.nn.softmax(\n",
    "        tf.matmul(tf_test_datast, weights) + biases\n",
    "    )\n",
    "    \n",
    "getTFResults(graph, 1001)"
   ]
  },
  {
   "cell_type": "markdown",
   "metadata": {
    "colab_type": "text",
    "id": "ww3SCBUdlkRc"
   },
   "source": [
    "---\n",
    "Problem 3\n",
    "---------\n",
    "Introduce Dropout on the hidden layer of the neural network. Remember: Dropout should only be introduced during training, not evaluation, otherwise your evaluation results would be stochastic as well. TensorFlow provides `nn.dropout()` for that, but you have to make sure it's only inserted during training.\n",
    "\n",
    "What happens to our extreme overfitting case?\n",
    "\n",
    "---"
   ]
  },
  {
   "cell_type": "code",
   "execution_count": 45,
   "metadata": {
    "code_folding": [
     4
    ],
    "collapsed": false
   },
   "outputs": [],
   "source": [
    "batch_size = 128\n",
    "beta = 0.001\n",
    "\n",
    "graph = tf.Graph()\n",
    "with graph.as_default():\n",
    "\n",
    "    tf_train_dataset = tf.placeholder(\n",
    "        tf.float32,\n",
    "        shape=(batch_size, image_size * image_size)\n",
    "    )\n",
    "    tf_train_labels = tf.placeholder(\n",
    "        tf.float32,\n",
    "        shape=(batch_size, num_labels)\n",
    "    )\n",
    "    tf_valid_dataset = tf.constant(valid_dataset)\n",
    "    tf_test_datast = tf.constant(test_dataset)\n",
    "    \n",
    "    ''' hidden layer '''\n",
    "    num_nodes_hidden = 1024\n",
    "    weights_hidden = tf.Variable(\n",
    "        tf.truncated_normal([\n",
    "            image_size * image_size,\n",
    "            num_nodes_hidden\n",
    "        ])\n",
    "    )\n",
    "    biases_hidden = tf.Variable(\n",
    "        tf.zeros([num_nodes_hidden])\n",
    "    )\n",
    "    layer_hidden = tf.nn.relu(\n",
    "        tf.matmul(\n",
    "            tf_train_dataset,\n",
    "            weights_hidden\n",
    "        ) + biases_hidden\n",
    "    )\n",
    "    \n",
    "    ''' dropout hidden layer '''\n",
    "    prob_to_keep = tf.placeholder('float')\n",
    "    layer_drop_hidden = tf.nn.dropout(\n",
    "        layer_hidden,\n",
    "        prob_to_keep\n",
    "    )\n",
    "    \n",
    "    ''' variables '''\n",
    "    weights = tf.Variable(\n",
    "        tf.truncated_normal([\n",
    "            num_nodes_hidden,\n",
    "            num_labels\n",
    "        ])\n",
    "    )\n",
    "    biases = tf.Variable(tf.zeros([num_labels]))\n",
    "    \n",
    "    ''' training computation function '''\n",
    "    logits = tf.matmul(layer_drop_hidden, weights) + biases\n",
    "    \n",
    "    ''' loss function using L2 Regularization '''\n",
    "    loss = tf.reduce_mean(\n",
    "        tf.nn.softmax_cross_entropy_with_logits(logits, tf_train_labels)\n",
    "    )\n",
    "    loss_l2 = tf.reduce_mean(\n",
    "        loss + beta * tf.nn.l2_loss(weights)\n",
    "    )\n",
    "    \n",
    "    ''' optimize '''\n",
    "    optimizer = tf.train.GradientDescentOptimizer(0.5).minimize(loss_l2)\n",
    "    \n",
    "    ''' predictions '''\n",
    "    train_prediction = tf.nn.softmax(logits)\n",
    "    valid_relu = tf.nn.relu(\n",
    "        tf.matmul(\n",
    "            tf_valid_dataset,\n",
    "            weights_hidden\n",
    "        ) + biases_hidden\n",
    "    )\n",
    "    valid_prediction = tf.nn.softmax(\n",
    "        tf.matmul(\n",
    "            valid_relu,\n",
    "            weights\n",
    "        ) + biases\n",
    "    )\n",
    "    \n",
    "    test_relu = tf.nn.relu(\n",
    "        tf.matmul(\n",
    "            tf_test_datast,\n",
    "            weights_hidden\n",
    "        ) + biases_hidden\n",
    "    )\n",
    "    test_prediction = tf.nn.softmax(\n",
    "        tf.matmul(\n",
    "            test_relu,\n",
    "            weights\n",
    "        ) + biases\n",
    "    )"
   ]
  },
  {
   "cell_type": "code",
   "execution_count": 50,
   "metadata": {
    "collapsed": false,
    "scrolled": false
   },
   "outputs": [
    {
     "name": "stdout",
     "output_type": "stream",
     "text": [
      "Initialized\n",
      "Minibatch loss at step 0: 444.892700\n",
      "Minibatch accuracy: 11.7%\n",
      "Validation accuracy: 27.1%\n",
      "\n",
      "Minibatch loss at step 500: 39.635483\n",
      "Minibatch accuracy: 72.7%\n",
      "Validation accuracy: 79.4%\n",
      "\n",
      "Minibatch loss at step 1000: 21.397570\n",
      "Minibatch accuracy: 68.0%\n",
      "Validation accuracy: 80.2%\n",
      "\n",
      "Minibatch loss at step 1500: 15.176024\n",
      "Minibatch accuracy: 76.6%\n",
      "Validation accuracy: 80.0%\n",
      "\n",
      "Minibatch loss at step 2000: 5.474715\n",
      "Minibatch accuracy: 79.7%\n",
      "Validation accuracy: 80.3%\n",
      "\n",
      "Minibatch loss at step 2500: 5.220998\n",
      "Minibatch accuracy: 73.4%\n",
      "Validation accuracy: 79.4%\n",
      "\n",
      "Minibatch loss at step 3000: 3.745796\n",
      "Minibatch accuracy: 77.3%\n",
      "Validation accuracy: 80.4%\n",
      "\n",
      "Minibatch loss at step 3500: 6.166140\n",
      "Minibatch accuracy: 74.2%\n",
      "Validation accuracy: 80.0%\n",
      "\n",
      "Minibatch loss at step 4000: 7.712373\n",
      "Minibatch accuracy: 75.8%\n",
      "Validation accuracy: 80.4%\n",
      "\n",
      "Minibatch loss at step 4500: 3.492334\n",
      "Minibatch accuracy: 75.0%\n",
      "Validation accuracy: 79.0%\n",
      "\n",
      "Minibatch loss at step 5000: 6.194180\n",
      "Minibatch accuracy: 81.2%\n",
      "Validation accuracy: 80.2%\n",
      "\n",
      "Minibatch loss at step 5500: 3.628190\n",
      "Minibatch accuracy: 77.3%\n",
      "Validation accuracy: 80.8%\n",
      "\n",
      "Minibatch loss at step 6000: 2.991916\n",
      "Minibatch accuracy: 71.9%\n",
      "Validation accuracy: 80.7%\n",
      "\n",
      "Minibatch loss at step 6500: 3.205643\n",
      "Minibatch accuracy: 78.9%\n",
      "Validation accuracy: 81.5%\n",
      "\n",
      "Minibatch loss at step 7000: 4.146355\n",
      "Minibatch accuracy: 75.0%\n",
      "Validation accuracy: 81.3%\n",
      "\n",
      "Minibatch loss at step 7500: 2.700230\n",
      "Minibatch accuracy: 75.0%\n",
      "Validation accuracy: 81.7%\n",
      "\n",
      "Minibatch loss at step 8000: 5.043075\n",
      "Minibatch accuracy: 68.8%\n",
      "Validation accuracy: 82.2%\n",
      "\n",
      "Minibatch loss at step 8500: 1.620431\n",
      "Minibatch accuracy: 78.9%\n",
      "Validation accuracy: 81.6%\n",
      "\n",
      "Minibatch loss at step 9000: 2.796274\n",
      "Minibatch accuracy: 74.2%\n",
      "Validation accuracy: 81.3%\n",
      "\n",
      "Test accuracy: 88.5%\n"
     ]
    },
    {
     "data": {
      "text/plain": [
       "<matplotlib.axes._subplots.AxesSubplot at 0x112c0c668>"
      ]
     },
     "execution_count": 50,
     "metadata": {},
     "output_type": "execute_result"
    },
    {
     "data": {
      "image/png": "[encoded data removed]",
      "text/plain": [
       "<matplotlib.figure.Figure at 0x116a8f438>"
      ]
     },
     "metadata": {},
     "output_type": "display_data"
    }
   ],
   "source": [
    "num_steps = 9001\n",
    "\n",
    "results = []\n",
    "with tf.Session(graph=graph) as session:\n",
    "    tf.initialize_all_variables().run()\n",
    "    print(\"Initialized\")\n",
    "    for step in range(num_steps):\n",
    "        # Pick an offset within the training data, which has been randomized.\n",
    "        # Note: we could use better randomization across epochs.\n",
    "        offset = (step * batch_size) % (train_labels.shape[0] - batch_size)\n",
    "        # Generate a minibatch.\n",
    "        batch_data = train_dataset[offset:(offset + batch_size), :]\n",
    "        batch_labels = train_labels[offset:(offset + batch_size), :]\n",
    "\n",
    "        feed_dict = {\n",
    "            tf_train_dataset : batch_data,\n",
    "            tf_train_labels : batch_labels,\n",
    "            prob_to_keep : 0.5\n",
    "        }\n",
    "        _, l, predictions = session.run( [optimizer, loss_l2, train_prediction], feed_dict=feed_dict)\n",
    "        if (step % 500 == 0):\n",
    "            print(\"Minibatch loss at step %d: %f\" % (step, l))\n",
    "            print(\"Minibatch accuracy: %.1f%%\" % accuracy(predictions, batch_labels))\n",
    "            print(\"Validation accuracy: %.1f%%\" % accuracy( valid_prediction.eval(), valid_labels) )\n",
    "            print('')\n",
    "            \n",
    "            results.append({\n",
    "#                 'loss': l,\n",
    "                'minibatch': accuracy(predictions, batch_labels),\n",
    "                'validation': accuracy( valid_prediction.eval(), valid_labels),\n",
    "                'test': accuracy(test_prediction.eval(), test_labels)\n",
    "            })\n",
    "    print(\"Test accuracy: %.1f%%\" % accuracy(test_prediction.eval(), test_labels))\n",
    "\n",
    "results = pd.DataFrame(results)\n",
    "results.plot()"
   ]
  },
  {
   "cell_type": "markdown",
   "metadata": {
    "colab_type": "text",
    "id": "-b1hTz3VWZjw"
   },
   "source": [
    "---\n",
    "Problem 4\n",
    "---------\n",
    "\n",
    "Try to get the best performance you can using a multi-layer model! The best reported test accuracy using a deep network is [97.1%](http://yaroslavvb.blogspot.com/2011/09/notmnist-dataset.html?showComment=1391023266211#c8758720086795711595).\n",
    "\n",
    "One avenue you can explore is to add multiple layers.\n",
    "\n",
    "Another one is to use learning rate decay:\n",
    "\n",
    "    global_step = tf.Variable(0)  # count the number of steps taken.\n",
    "    learning_rate = tf.train.exponential_decay(0.5, global_step, ...)\n",
    "    optimizer = tf.train.GradientDescentOptimizer(learning_rate).minimize(loss, global_step=global_step)\n",
    " \n",
    " ---\n"
   ]
  }
 ],
 "metadata": {
  "colab": {
   "default_view": {},
   "name": "3_regularization.ipynb",
   "provenance": [],
   "version": "0.3.2",
   "views": {}
  },
  "kernelspec": {
   "display_name": "Python 3",
   "language": "python",
   "name": "python3"
  },
  "language_info": {
   "codemirror_mode": {
    "name": "ipython",
    "version": 3
   },
   "file_extension": ".py",
   "mimetype": "text/x-python",
   "name": "python",
   "nbconvert_exporter": "python",
   "pygments_lexer": "ipython3",
   "version": "3.5.1"
  }
 },
 "nbformat": 4,
 "nbformat_minor": 0
}
